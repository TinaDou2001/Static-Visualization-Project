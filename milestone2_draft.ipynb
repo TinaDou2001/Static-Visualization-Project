{
 "cells": [
  {
   "cell_type": "code",
   "execution_count": null,
   "id": "b28dc118",
   "metadata": {},
   "outputs": [],
   "source": [
    "import altair as alt\n",
    "import polars as pl\n",
    "from pathlib import Path"
   ]
  }
 ],
 "metadata": {
  "kernelspec": {
   "display_name": ".venv",
   "language": "python",
   "name": "python3"
  },
  "language_info": {
   "name": "python",
   "version": "3.10.6"
  }
 },
 "nbformat": 4,
 "nbformat_minor": 5
}
