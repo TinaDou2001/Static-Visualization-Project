{
 "cells": [
  {
   "cell_type": "code",
   "execution_count": null,
   "id": "b28dc118",
   "metadata": {
    "vscode": {
     "languageId": "plaintext"
    }
   },
   "outputs": [],
   "source": [
    "import altair as alt\n",
    "import polars as pl\n",
    "from pathlib import Path"
   ]
  }
 ],
 "metadata": {
  "language_info": {
   "name": "python"
  }
 },
 "nbformat": 4,
 "nbformat_minor": 5
}
